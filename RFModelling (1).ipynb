{
 "cells": [
  {
   "cell_type": "code",
   "execution_count": 1,
   "id": "de490248",
   "metadata": {},
   "outputs": [],
   "source": [
    "import pandas as pd\n",
    "\n",
    "data = pd.read_csv(\"E:/Trip_data/RFdata_ponmalai.csv\")"
   ]
  },
  {
   "cell_type": "code",
   "execution_count": 2,
   "id": "4a5c019f",
   "metadata": {},
   "outputs": [
    {
     "name": "stdout",
     "output_type": "stream",
     "text": [
      "   Sample  Zone  Gender  Age      Education Marital           Employment  \\\n",
      "0  330001     3    Male   36  Undergraduate       M     Private Employee   \n",
      "1  330001     3  Female   34  Undergraduate       M  Government Employee   \n",
      "2  330001     3    Male   10     Below SSLC      UM              Student   \n",
      "3  330002     3    Male   45     Plus 2/ITI       M        Self Employed   \n",
      "4  330002     3    Male   45     Plus 2/ITI       M        Self Employed   \n",
      "\n",
      "          Salary License  TotalHHSIZE  ...  TwoWheeler  Car         Mode  \\\n",
      "0  10000 - 25000     Yes            4  ...           2    0  Two Wheeler   \n",
      "1  10000 - 25000     Yes            4  ...           2    0  Two Wheeler   \n",
      "2              0      No            4  ...           2    0    SchoolBus   \n",
      "3        < 10000     Yes            3  ...           1    0         Walk   \n",
      "4        < 10000     Yes            3  ...           1    0         Walk   \n",
      "\n",
      "  TTIME  TDIST  TCOST  TypeActivity StartingTime EndingTime SharedRide  \n",
      "0  20.0      5    7.0          work        08:20      17:00         No  \n",
      "1  15.0      2    3.0          work        09:15      16:30         No  \n",
      "2  28.0    7.5  140.0     Education        09:15      16:30         No  \n",
      "3  10.0    0.7    0.0          work        04:10      12:00         No  \n",
      "4  10.0    0.7    0.0          work        03:30      19:00         No  \n",
      "\n",
      "[5 rows x 21 columns]\n"
     ]
    }
   ],
   "source": [
    "print(data.head())"
   ]
  },
  {
   "cell_type": "code",
   "execution_count": 3,
   "id": "740ba7a6",
   "metadata": {},
   "outputs": [
    {
     "name": "stdout",
     "output_type": "stream",
     "text": [
      "Sample          0\n",
      "Zone            0\n",
      "Gender          0\n",
      "Age             0\n",
      "Education       0\n",
      "Marital         0\n",
      "Employment      0\n",
      "Salary          0\n",
      "License         0\n",
      "TotalHHSIZE     0\n",
      "Working         0\n",
      "TwoWheeler      0\n",
      "Car             0\n",
      "Mode            0\n",
      "TTIME           0\n",
      "TDIST           0\n",
      "TCOST           0\n",
      "TypeActivity    0\n",
      "StartingTime    0\n",
      "EndingTime      0\n",
      "SharedRide      0\n",
      "dtype: int64\n"
     ]
    }
   ],
   "source": [
    "print(data.isnull().sum())\n",
    "\n",
    "# Replace missing values with the median value of the corresponding column\n",
    "data = data.fillna(data.median())"
   ]
  },
  {
   "cell_type": "code",
   "execution_count": 4,
   "id": "3ce92e22",
   "metadata": {},
   "outputs": [
    {
     "name": "stdout",
     "output_type": "stream",
     "text": [
      "Most commonly used travel mode for males: Two Wheeler\n",
      "Most commonly used travel mode for females: Bus\n"
     ]
    }
   ],
   "source": [
    "# Subset the data by gender\n",
    "male_data = data[data['Gender'] == 'Male']\n",
    "female_data = data[data['Gender'] == 'Female']\n",
    "\n",
    "# Most commonly used travel mode for males\n",
    "male_mode = male_data['Mode'].mode()[0]\n",
    "print(\"Most commonly used travel mode for males:\", male_mode)\n",
    "\n",
    "# Most commonly used travel mode for females\n",
    "female_mode = female_data['Mode'].mode()[0]\n",
    "print(\"Most commonly used travel mode for females:\", female_mode)\n"
   ]
  },
  {
   "cell_type": "code",
   "execution_count": 5,
   "id": "182f828c",
   "metadata": {},
   "outputs": [
    {
     "name": "stdout",
     "output_type": "stream",
     "text": [
      "Most commonly used travel mode for age category 0-18 is SchoolBus with 532 occurrences\n",
      "Most commonly used travel mode for age category 18-30 is Two Wheeler with 789 occurrences\n",
      "Most commonly used travel mode for age category 30-40 is Two Wheeler with 866 occurrences\n",
      "Most commonly used travel mode for age category 40-50 is Two Wheeler with 542 occurrences\n",
      "Most commonly used travel mode for age category 50-60 is Two Wheeler with 14 occurrences\n",
      "Most commonly used travel mode for age category 60+ is Two Wheeler with 17 occurrences\n"
     ]
    }
   ],
   "source": [
    "# Create age categories\n",
    "bins = [0, 18, 30, 40, 50, 60, 100]\n",
    "labels = ['0-18', '18-30', '30-40', '40-50', '50-60', '60+']\n",
    "data['age_category'] = pd.cut(data['Age'], bins=bins, labels=labels)\n",
    "\n",
    "# Group the data by age category and travel mode, and count the number of occurrences\n",
    "grouped_data = data.groupby(['age_category', 'Mode'])['Mode'].count().reset_index(name='count')\n",
    "\n",
    "# Most commonly used travel mode for each age category\n",
    "for category in labels:\n",
    "    category_data = grouped_data[grouped_data['age_category'] == category]\n",
    "    max_count = category_data['count'].max()\n",
    "    mode = category_data[category_data['count'] == max_count]['Mode'].values[0]\n",
    "    print(\"Most commonly used travel mode for age category\", category, \"is\", mode, \"with\", max_count, \"occurrences\")\n"
   ]
  },
  {
   "cell_type": "code",
   "execution_count": 6,
   "id": "b9c50a1f",
   "metadata": {},
   "outputs": [],
   "source": [
    "# One-hot encode the 'Gender' column\n",
    "data = pd.get_dummies(data, columns=['License'])\n",
    "data = pd.get_dummies(data, columns=['Gender'])\n",
    "data = pd.get_dummies(data, columns=['TypeActivity'])"
   ]
  },
  {
   "cell_type": "code",
   "execution_count": 51,
   "id": "6cdb20b5",
   "metadata": {},
   "outputs": [],
   "source": [
    "# data['Mode'].replace(['Car','Two Wheeler','Bus','PrivateVehicle','SchoolBus','Walk'],\n",
    "#                          [0,1,2,3,4,5], inplace=True)\n",
    "# data['Salary'].replace(['< 10000','10000 - 25000','25000 - 50000','> 50000'],\n",
    "#                          [5000,17500,37500,75000], inplace=True)"
   ]
  },
  {
   "cell_type": "code",
   "execution_count": 7,
   "id": "672bf119",
   "metadata": {},
   "outputs": [
    {
     "name": "stdout",
     "output_type": "stream",
     "text": [
      "   Sample  Zone  Age      Education Marital           Employment  \\\n",
      "0  330001     3   36  Undergraduate       M     Private Employee   \n",
      "1  330001     3   34  Undergraduate       M  Government Employee   \n",
      "2  330001     3   10     Below SSLC      UM              Student   \n",
      "3  330002     3   45     Plus 2/ITI       M        Self Employed   \n",
      "4  330002     3   45     Plus 2/ITI       M        Self Employed   \n",
      "\n",
      "          Salary  TotalHHSIZE  Working  TwoWheeler  ...  age_category  \\\n",
      "0  10000 - 25000            4        2           2  ...         30-40   \n",
      "1  10000 - 25000            4        2           2  ...         30-40   \n",
      "2              0            4        2           2  ...          0-18   \n",
      "3        < 10000            3        1           1  ...         40-50   \n",
      "4        < 10000            3        1           1  ...         40-50   \n",
      "\n",
      "  License_No  License_Yes Gender_Female  Gender_Male TypeActivity_Education  \\\n",
      "0          0            1             0            1                      0   \n",
      "1          0            1             1            0                      0   \n",
      "2          1            0             0            1                      1   \n",
      "3          0            1             0            1                      0   \n",
      "4          0            1             0            1                      0   \n",
      "\n",
      "  TypeActivity_Others TypeActivity_Shopping TypeActivity_others  \\\n",
      "0                   0                     0                   0   \n",
      "1                   0                     0                   0   \n",
      "2                   0                     0                   0   \n",
      "3                   0                     0                   0   \n",
      "4                   0                     0                   0   \n",
      "\n",
      "   TypeActivity_work  \n",
      "0                  1  \n",
      "1                  1  \n",
      "2                  0  \n",
      "3                  1  \n",
      "4                  1  \n",
      "\n",
      "[5 rows x 28 columns]\n"
     ]
    }
   ],
   "source": [
    "print(data.head())"
   ]
  },
  {
   "cell_type": "code",
   "execution_count": 8,
   "id": "0eec6c81",
   "metadata": {},
   "outputs": [],
   "source": [
    "from sklearn.model_selection import train_test_split\n",
    "\n",
    "# Split the data into 80% training set and 20% testing set\n",
    "train_data, test_data = train_test_split(data, test_size=0.2, random_state=42)\n"
   ]
  },
  {
   "cell_type": "code",
   "execution_count": 9,
   "id": "2f998ebb",
   "metadata": {},
   "outputs": [
    {
     "name": "stdout",
     "output_type": "stream",
     "text": [
      "['Car' 'Two Wheeler' 'Bus' 'PrivateVehicle' 'SchoolBus' 'Walk']\n"
     ]
    }
   ],
   "source": [
    "unique_targets = train_data['Mode'].unique()\n",
    "print(unique_targets)\n"
   ]
  },
  {
   "cell_type": "code",
   "execution_count": 10,
   "id": "ef91e366",
   "metadata": {},
   "outputs": [
    {
     "name": "stdout",
     "output_type": "stream",
     "text": [
      "Education object\n",
      "Marital object\n",
      "Employment object\n",
      "Salary object\n",
      "Mode object\n",
      "TDIST object\n",
      "StartingTime object\n",
      "EndingTime object\n",
      "SharedRide object\n",
      "age_category category\n",
      "License_No uint8\n",
      "License_Yes uint8\n",
      "Gender_Female uint8\n",
      "Gender_Male uint8\n",
      "TypeActivity_Education uint8\n",
      "TypeActivity_Others uint8\n",
      "TypeActivity_Shopping uint8\n",
      "TypeActivity_others uint8\n",
      "TypeActivity_work uint8\n"
     ]
    }
   ],
   "source": [
    "# Loop through each column in train_data and check datatype\n",
    "for col in train_data.columns:\n",
    "    if train_data[col].dtype != 'float64' and train_data[col].dtype != 'int64':\n",
    "        print(col, train_data[col].dtype)\n"
   ]
  },
  {
   "cell_type": "code",
   "execution_count": 11,
   "id": "9769dd81",
   "metadata": {},
   "outputs": [
    {
     "name": "stdout",
     "output_type": "stream",
     "text": [
      "Mode percentages:\n",
      "Two Wheeler       41.929464\n",
      "Bus               15.320022\n",
      "PrivateVehicle    14.536294\n",
      "Walk              11.420041\n",
      "SchoolBus         10.393730\n",
      "Car                6.400448\n",
      "Name: Mode, dtype: float64\n"
     ]
    }
   ],
   "source": [
    "# Count the number of instances of each travel mode\n",
    "mode_counts = data['Mode'].value_counts()\n",
    "\n",
    "# Calculate the percentage of instances of each travel mode\n",
    "mode_percentages = mode_counts / len(data) * 100\n",
    "\n",
    "# Print the percentage of instances of each travel mode\n",
    "print('Mode percentages:')\n",
    "print(mode_percentages)"
   ]
  },
  {
   "cell_type": "code",
   "execution_count": 12,
   "id": "f8d7e73b",
   "metadata": {},
   "outputs": [
    {
     "data": {
      "text/plain": [
       "RandomForestClassifier(max_depth=5, random_state=42)"
      ]
     },
     "execution_count": 12,
     "metadata": {},
     "output_type": "execute_result"
    }
   ],
   "source": [
    "from sklearn.ensemble import RandomForestClassifier\n",
    "\n",
    "# Define the features and target variable\n",
    "features = ['Age', 'License_No', 'License_Yes','TTIME', 'TCOST', 'TypeActivity_Education', 'TypeActivity_Others', 'TypeActivity_work', 'TypeActivity_Shopping', 'Gender_Female', 'Gender_Male']\n",
    "target = 'Mode'\n",
    "\n",
    "# Create the random forest model\n",
    "rf_model = RandomForestClassifier(n_estimators=100, max_depth=5, random_state=42)\n",
    "\n",
    "# Train the model on the training data\n",
    "rf_model.fit(train_data[features], train_data[target])"
   ]
  },
  {
   "cell_type": "code",
   "execution_count": 13,
   "id": "334ebb47",
   "metadata": {},
   "outputs": [
    {
     "name": "stdout",
     "output_type": "stream",
     "text": [
      "Accuracy: 0.8544776119402985\n",
      "Predictions:\n",
      "['Two Wheeler' 'Walk' 'Walk' ... 'Car' 'Bus' 'Bus']\n"
     ]
    }
   ],
   "source": [
    "from sklearn.metrics import accuracy_score\n",
    "\n",
    "# Predict the travel mode choices for the test data\n",
    "predictions = rf_model.predict(test_data[features])\n",
    "# Calculate the accuracy of the model on the test data\n",
    "accuracy = accuracy_score(test_data[target], predictions)\n",
    "print('Accuracy:', accuracy)\n",
    "\n",
    "print(\"Predictions:\")\n",
    "print(predictions)"
   ]
  },
  {
   "cell_type": "code",
   "execution_count": 18,
   "id": "30e7a1da",
   "metadata": {},
   "outputs": [],
   "source": [
    "from sklearn.metrics import confusion_matrix\n",
    "\n",
    "# Generate a confusion matrix for the predictions\n",
    "conf_mat = confusion_matrix(test_data[target], predictions)\n",
    "\n",
    "# Print the confusion matrix\n",
    "# print('Confusion Matrix:')\n",
    "# print(conf_mat)"
   ]
  },
  {
   "cell_type": "code",
   "execution_count": 19,
   "id": "31492639",
   "metadata": {},
   "outputs": [
    {
     "data": {
      "image/png": "[encoded data removed]",
      "text/plain": [
       "<Figure size 432x288 with 2 Axes>"
      ]
     },
     "metadata": {
      "needs_background": "light"
     },
     "output_type": "display_data"
    }
   ],
   "source": [
    "import seaborn as sns\n",
    "import matplotlib.pyplot as plt\n",
    "\n",
    "# Plot the confusion matrix as a heatmap\n",
    "sns.heatmap(conf_mat, annot=True, cmap='Blues', fmt='g')\n",
    "\n",
    "plt.title('Confusion Matrix')\n",
    "plt.xlabel('Predicted Label')\n",
    "plt.ylabel('True Label')\n",
    "plt.show()"
   ]
  }
 ],
 "metadata": {
  "kernelspec": {
   "display_name": "Python 3",
   "language": "python",
   "name": "python3"
  },
  "language_info": {
   "codemirror_mode": {
    "name": "ipython",
    "version": 3
   },
   "file_extension": ".py",
   "mimetype": "text/x-python",
   "name": "python",
   "nbconvert_exporter": "python",
   "pygments_lexer": "ipython3",
   "version": "3.8.8"
  }
 },
 "nbformat": 4,
 "nbformat_minor": 5
}
